{
 "cells": [
  {
   "cell_type": "markdown",
   "metadata": {},
   "source": [
    "First install scrapy with the command:\n",
    "\n",
    ">__pip install scrapy__\n",
    "\n",
    "PS: in jupyter use \"! \" before the command for bash commands\n",
    "\n",
    "Then start a new project with the command:\n",
    "\n",
    ">__scrapy startproject project_name__\n",
    "\n",
    "(Run the cell below to start a new project)"
   ]
  },
  {
   "cell_type": "code",
   "execution_count": 2,
   "metadata": {},
   "outputs": [
    {
     "name": "stdout",
     "output_type": "stream",
     "text": [
      "New Scrapy project 'project_name', using template directory 'C:\\Users\\Zibir Zibzan\\Anaconda3\\envs\\Artist_Scraper_kunstaspekte\\lib\\site-packages\\scrapy\\templates\\project', created in:\n",
      "    C:\\Users\\Zibir Zibzan\\OneDrive\\python\\Artist_Scraper_kunstaspekte\\Scraper_Tutorial\\project_name\n",
      "\n",
      "You can start your first spider with:\n",
      "    cd project_name\n",
      "    scrapy genspider example example.com\n"
     ]
    }
   ],
   "source": [
    "! scrapy startproject project_name"
   ]
  },
  {
   "cell_type": "raw",
   "metadata": {},
   "source": [
    "This will create the necessary files for the project:\n",
    "\n",
    "    project_name/  \n",
    "    scrapy.cfg            # deploy configuration file  \n",
    "    project_name/         # project's Python module, you'll import your code from here \n",
    "        __init__.py  \n",
    "        items.py          # project items definition file  \n",
    "        middlewares.py    # project middlewares file  \n",
    "        pipelines.py      # project pipelines file  \n",
    "        settings.py       # project settings file  \n",
    "        spiders/          # a directory where you'll later put your spiders  \n",
    "            __init__.py      "
   ]
  },
  {
   "cell_type": "markdown",
   "metadata": {},
   "source": [
    "After project initialization, head to project directory\n",
    ">__cd project_name__\n",
    "\n",
    "Then generate a new spider using:\n",
    "    \n",
    ">__scrapy genspider your_spider_name domain_to_scrape.com__\n",
    "\n",
    "(Run the cell below to generate a new spider)"
   ]
  },
  {
   "cell_type": "code",
   "execution_count": 2,
   "metadata": {},
   "outputs": [
    {
     "name": "stdout",
     "output_type": "stream",
     "text": [
      "C:\\Users\\Zibir Zibzan\\OneDrive\\python\\Artist_Scraper_kunstaspekte\\Scraper_Tutorial\\project_name\n",
      "Spider 'your_spider_name' already exists in module:\n",
      "  project_name.spiders.your_spider_name\n"
     ]
    }
   ],
   "source": [
    "%cd project_name\n",
    "! scrapy genspider your_spider_name domain_to_scrape.com"
   ]
  },
  {
   "cell_type": "code",
   "execution_count": 3,
   "metadata": {},
   "outputs": [],
   "source": [
    "# This will create a your_spider_name.py file containing your spider:\n",
    "# your_spider_name.py\n",
    "\n",
    "import scrapy\n",
    "\n",
    "\n",
    "class Your_spider_nameSpider(scrapy.Spider):\n",
    "    name = 'your_spider_name'\n",
    "    allowed_domains = ['domain_to_scrape.com']\n",
    "    start_urls = ['http://domain_to_scrape.com/']\n",
    "\n",
    "    def parse(self, response):\n",
    "        pass\n",
    "    \n",
    "# this will contain your_spiders class and a parse method  \n",
    "# name variable is necessary and will be used to refer to this spider\n",
    "# allowed_domains is not necessary but useful to limit your crawl to a single or multiple domains\n",
    "# the parse method will used to parse the raw response of the website\n"
   ]
  },
  {
   "cell_type": "code",
   "execution_count": null,
   "metadata": {},
   "outputs": [
    {
     "name": "stdout",
     "output_type": "stream",
     "text": [
      "C:\\Users\\Zibir Zibzan\\OneDrive\\python\\Artist_Scraper_kunstaspekte\\Scraper_Tutorial\\project_name\\project_name\n"
     ]
    }
   ],
   "source": [
    "%cd project_name\n",
    "! scrapy crawl your_spider_name"
   ]
  },
  {
   "cell_type": "code",
   "execution_count": null,
   "metadata": {},
   "outputs": [],
   "source": []
  }
 ],
 "metadata": {
  "kernelspec": {
   "display_name": "Python 3",
   "language": "python",
   "name": "python3"
  },
  "language_info": {
   "codemirror_mode": {
    "name": "ipython",
    "version": 3
   },
   "file_extension": ".py",
   "mimetype": "text/x-python",
   "name": "python",
   "nbconvert_exporter": "python",
   "pygments_lexer": "ipython3",
   "version": "3.6.8"
  }
 },
 "nbformat": 4,
 "nbformat_minor": 2
}
